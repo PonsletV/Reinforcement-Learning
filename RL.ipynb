{
  "nbformat": 4,
  "nbformat_minor": 0,
  "metadata": {
    "kernelspec": {
      "display_name": "Python 3",
      "language": "python",
      "name": "python3"
    },
    "language_info": {
      "codemirror_mode": {
        "name": "ipython",
        "version": 3
      },
      "file_extension": ".py",
      "mimetype": "text/x-python",
      "name": "python",
      "nbconvert_exporter": "python",
      "pygments_lexer": "ipython3",
      "version": "3.7.3"
    },
    "colab": {
      "name": "RL.ipynb",
      "provenance": [],
      "collapsed_sections": []
    }
  },
  "cells": [
    {
      "cell_type": "markdown",
      "metadata": {
        "id": "zLLYuhUymMbs",
        "colab_type": "text"
      },
      "source": [
        "**You may need to install [OpenCV](https://pypi.python.org/pypi/opencv-python) and [scikit-video](http://www.scikit-video.org/stable/).**"
      ]
    },
    {
      "cell_type": "code",
      "metadata": {
        "id": "DobolckvmMbu",
        "colab_type": "code",
        "outputId": "71392e83-6897-4306-b8f7-5d8a0abdf94d",
        "colab": {
          "base_uri": "https://localhost:8080/",
          "height": 197
        }
      },
      "source": [
        "!pip install sk-video\n",
        "import keras\n",
        "import numpy as np\n",
        "import io\n",
        "import base64\n",
        "from IPython.display import HTML\n",
        "import skvideo.io\n",
        "import cv2\n",
        "import json\n",
        "\n",
        "from keras.models import Sequential,model_from_json\n",
        "from keras.layers.core import Dense\n",
        "from keras.optimizers import sgd\n",
        "from keras.layers import Conv2D, MaxPooling2D, Activation, AveragePooling2D,Reshape,BatchNormalization, Flatten"
      ],
      "execution_count": 1,
      "outputs": [
        {
          "output_type": "stream",
          "text": [
            "Collecting sk-video\n",
            "\u001b[?25l  Downloading https://files.pythonhosted.org/packages/dd/3f/ce848b8b2062ad1ccf1449094a740c775f6c761339f411e44f1e090f23a7/sk_video-1.1.10-py2.py3-none-any.whl (2.3MB)\n",
            "\u001b[K     |████████████████████████████████| 2.3MB 2.7MB/s \n",
            "\u001b[?25hRequirement already satisfied: scipy in /usr/local/lib/python3.6/dist-packages (from sk-video) (1.4.1)\n",
            "Requirement already satisfied: numpy in /usr/local/lib/python3.6/dist-packages (from sk-video) (1.17.5)\n",
            "Installing collected packages: sk-video\n",
            "Successfully installed sk-video-1.1.10\n"
          ],
          "name": "stdout"
        },
        {
          "output_type": "stream",
          "text": [
            "Using TensorFlow backend.\n"
          ],
          "name": "stderr"
        },
        {
          "output_type": "display_data",
          "data": {
            "text/html": [
              "<p style=\"color: red;\">\n",
              "The default version of TensorFlow in Colab will soon switch to TensorFlow 2.x.<br>\n",
              "We recommend you <a href=\"https://www.tensorflow.org/guide/migrate\" target=\"_blank\">upgrade</a> now \n",
              "or ensure your notebook will continue to use TensorFlow 1.x via the <code>%tensorflow_version 1.x</code> magic:\n",
              "<a href=\"https://colab.research.google.com/notebooks/tensorflow_version.ipynb\" target=\"_blank\">more info</a>.</p>\n"
            ],
            "text/plain": [
              "<IPython.core.display.HTML object>"
            ]
          },
          "metadata": {
            "tags": []
          }
        }
      ]
    },
    {
      "cell_type": "markdown",
      "metadata": {
        "id": "NLdV0gI1mMb2",
        "colab_type": "text"
      },
      "source": [
        "# MiniProject on Deep Reinforcement Learning"
      ]
    },
    {
      "cell_type": "markdown",
      "metadata": {
        "id": "b3TFrxsUmMb3",
        "colab_type": "text"
      },
      "source": [
        "__Notations__: $E_p$ is the expectation under probability $p$. Please justify each of your answer and widely comment your code."
      ]
    },
    {
      "cell_type": "markdown",
      "metadata": {
        "id": "vQ4zSK3emMb4",
        "colab_type": "text"
      },
      "source": [
        "# Context"
      ]
    },
    {
      "cell_type": "markdown",
      "metadata": {
        "id": "Zi-lDwRUmMb6",
        "colab_type": "text"
      },
      "source": [
        "In a reinforcement learning algorithm, we modelize each step $t$ as an action $a_t$ obtained from a state $s_t$, i.e. $\\{(a_{t},s_{t})_{t\\leq T}\\}$ having the Markov property. We consider a discount factor $\\gamma \\in [0,1]$ that ensures convergence. The goal is to find among all the policies $\\pi$, one that maximizes the expected reward:\n",
        "\n",
        "\\begin{equation*}\n",
        "R(\\pi)=\\sum_{t\\leq T}E_{p^{\\pi}}[\\gamma^t r(s_{t},a_{t})] \\> ,\n",
        "\\end{equation*}\n",
        "\n",
        "where: \n",
        "\\begin{equation*}p^{\\pi}(a_{0},a_{1},s_{1},...,a_{T},s_{T})=p(a_{0})\\prod_{t=1}^{T}\\pi(a_{t}|s_{t})p(s_{t+1}|s_{t},a_{t}) \\> .\n",
        "\\end{equation*}\n",
        "\n",
        "We note the $Q$-function:\n",
        "\n",
        "\\begin{equation*}Q^\\pi(s,a)=E_{p^{\\pi}}[\\sum_{t\\leq T}\\gamma^{t}r(s_{t},a_{t})|s_{0}=s,a_{0}=a] \\> .\n",
        "\\end{equation*}\n",
        "\n",
        "Thus, the optimal Q function is:\n",
        "\\begin{equation*}\n",
        "Q^*(s,a)=\\max_{\\pi}Q^\\pi(s,a) \\> .\n",
        "\\end{equation*}\n",
        "\n",
        "In this project, we will apply the deep reinforcement learning techniques to a simple game: an agent will have to learn from scratch a policy that will permit it maximizing a reward."
      ]
    },
    {
      "cell_type": "markdown",
      "metadata": {
        "id": "OSZIqEDjmMb7",
        "colab_type": "text"
      },
      "source": [
        "## The environment, the agent and the game"
      ]
    },
    {
      "cell_type": "markdown",
      "metadata": {
        "id": "Gcr14GhAmMb8",
        "colab_type": "text"
      },
      "source": [
        "### The environment"
      ]
    },
    {
      "cell_type": "markdown",
      "metadata": {
        "id": "2__ulTo1mMb-",
        "colab_type": "text"
      },
      "source": [
        "```Environment``` is an abstract class that represents the states, rewards, and actions to obtain the new state."
      ]
    },
    {
      "cell_type": "code",
      "metadata": {
        "id": "t5NgwYMkmMb_",
        "colab_type": "code",
        "colab": {}
      },
      "source": [
        "class Environment(object):\n",
        "    def __init__(self):\n",
        "        pass\n",
        "\n",
        "    def act(self, act):\n",
        "        \"\"\"\n",
        "        One can act on the environment and obtain its reaction:\n",
        "        - the new state\n",
        "        - the reward of the new state\n",
        "        - should we continue the game?\n",
        "\n",
        "        :return: state, reward, game_over\n",
        "        \"\"\"\n",
        "        pass\n",
        "\n",
        "\n",
        "    def reset(self):\n",
        "        \"\"\"\n",
        "        Reinitialize the environment to a random state and returns\n",
        "        the original state\n",
        "\n",
        "        :return: state\n",
        "        \"\"\"\n",
        "        pass\n",
        "    \n",
        "    def draw(self):\n",
        "        \"\"\"\n",
        "        Visualize in the console or graphically the current state\n",
        "        \"\"\"\n",
        "        pass"
      ],
      "execution_count": 0,
      "outputs": []
    },
    {
      "cell_type": "markdown",
      "metadata": {
        "id": "uFcVL-z7mMcE",
        "colab_type": "text"
      },
      "source": [
        "The method ```act``` allows to act on the environment at a given state $s_t$ (stored internally), via action $a_t$. The method will return the new state $s_{t+1}$, the reward $r(s_{t},a_{t})$ and determines if $t\\leq T$ (*game_over*).\n",
        "\n",
        "The method ```reset``` simply reinitializes the environment to a random state $s_0$.\n",
        "\n",
        "The method ```draw``` displays the current state $s_t$ (this is useful to check the behavior of the Agent).\n",
        "\n",
        "We modelize $s_t$ as a tensor, while $a_t$ is an integer."
      ]
    },
    {
      "cell_type": "markdown",
      "metadata": {
        "id": "dvSwFbwFmMcG",
        "colab_type": "text"
      },
      "source": [
        "### The Agent"
      ]
    },
    {
      "cell_type": "markdown",
      "metadata": {
        "id": "MQB55hkzmMcI",
        "colab_type": "text"
      },
      "source": [
        "The goal of the ```Agent``` is to interact with the ```Environment``` by proposing actions $a_t$ obtained from a given state $s_t$ to attempt to maximize its __reward__ $r(s_t,a_t)$. We propose the following abstract class:"
      ]
    },
    {
      "cell_type": "code",
      "metadata": {
        "id": "-W1DGjqMmMcJ",
        "colab_type": "code",
        "colab": {}
      },
      "source": [
        "class Agent(object):\n",
        "    def __init__(self, epsilon=0.1, n_action=4):\n",
        "        self.epsilon = epsilon\n",
        "        self.n_action = n_action\n",
        "    \n",
        "    def set_epsilon(self,e):\n",
        "        self.epsilon = e\n",
        "\n",
        "    def act(self,s,train=True):\n",
        "        \"\"\" This function should return the next action to do:\n",
        "        an integer between 0 and 4 (not included) with a random exploration of epsilon\"\"\"\n",
        "        if train:\n",
        "            if np.random.rand() <= self.epsilon:\n",
        "                a = np.random.randint(0, self.n_action, size=1)[0]\n",
        "            else:\n",
        "                a = self.learned_act(s)\n",
        "        else: # in some cases, this can improve the performance.. remove it if poor performances\n",
        "            a = self.learned_act(s)\n",
        "\n",
        "        return a\n",
        "\n",
        "    def learned_act(self,s):\n",
        "        \"\"\" Act via the policy of the agent, from a given state s\n",
        "        it proposes an action a\"\"\"\n",
        "        pass\n",
        "\n",
        "    def reinforce(self, s, n_s, a, r, game_over_):\n",
        "        \"\"\" This function is the core of the learning algorithm. \n",
        "        It takes as an input the current state s_, the next state n_s_\n",
        "        the action a_ used to move from s_ to n_s_ and the reward r_.\n",
        "        \n",
        "        Its goal is to learn a policy.\n",
        "        \"\"\"\n",
        "        pass\n",
        "\n",
        "    def save(self):\n",
        "        \"\"\" This function returns basic stats if applicable: the\n",
        "        loss and/or the model\"\"\"\n",
        "        pass\n",
        "\n",
        "    def load(self):\n",
        "        \"\"\" This function allows to restore a model\"\"\"\n",
        "        pass"
      ],
      "execution_count": 0,
      "outputs": []
    },
    {
      "cell_type": "markdown",
      "metadata": {
        "id": "2ztuG-TsmMcO",
        "colab_type": "text"
      },
      "source": [
        "***\n",
        "__Question 1__:\n",
        "Explain the function act. Why is ```epsilon``` essential?"
      ]
    },
    {
      "cell_type": "markdown",
      "metadata": {
        "id": "4NL_EA9omMcQ",
        "colab_type": "text"
      },
      "source": [
        "The ```epsilon``` allows the agent to have a random action with a given probability. It enable it to try new strategies and evolve overtime during the training."
      ]
    },
    {
      "cell_type": "markdown",
      "metadata": {
        "id": "FCMqXhL0mMcS",
        "colab_type": "text"
      },
      "source": [
        "(you can use Markdown and Latex)"
      ]
    },
    {
      "cell_type": "markdown",
      "metadata": {
        "id": "DYyQEKs0mMcT",
        "colab_type": "text"
      },
      "source": [
        "***\n",
        "### The Game"
      ]
    },
    {
      "cell_type": "markdown",
      "metadata": {
        "id": "m8RrsD8emMcU",
        "colab_type": "text"
      },
      "source": [
        "The ```Agent``` and the ```Environment``` work in an interlaced way as in the following (take some time to understand this code as it is the core of the project)\n",
        "\n",
        "```python\n",
        "\n",
        "epoch = 300\n",
        "env = Environment()\n",
        "agent = Agent()\n",
        "\n",
        "\n",
        "# Number of won games\n",
        "score = 0\n",
        "loss = 0\n",
        "\n",
        "\n",
        "for e in range(epoch):\n",
        "    # At each epoch, we restart to a fresh game and get the initial state\n",
        "    state = env.reset()\n",
        "    # This assumes that the games will end\n",
        "    game_over = False\n",
        "\n",
        "    win = 0\n",
        "    lose = 0\n",
        "    \n",
        "    while not game_over:\n",
        "        # The agent performs an action\n",
        "        action = agent.act(state)\n",
        "\n",
        "        # Apply an action to the environment, get the next state, the reward\n",
        "        # and if the games end\n",
        "        prev_state = state\n",
        "        state, reward, game_over = env.act(action)\n",
        "\n",
        "        # Update the counters\n",
        "        if reward > 0:\n",
        "            win = win + reward\n",
        "        if reward < 0:\n",
        "            lose = lose -reward\n",
        "\n",
        "        # Apply the reinforcement strategy\n",
        "        loss = agent.reinforce(prev_state, state,  action, reward, game_over)\n",
        "\n",
        "    # Save as a mp4\n",
        "    if e % 10 == 0:\n",
        "        env.draw(e)\n",
        "\n",
        "    # Update stats\n",
        "    score += win-lose\n",
        "\n",
        "    print(\"Epoch {:03d}/{:03d} | Loss {:.4f} | Win/lose count {}/{} ({})\"\n",
        "          .format(e, epoch, loss, win, lose, win-lose))\n",
        "    agent.save()\n",
        "```"
      ]
    },
    {
      "cell_type": "markdown",
      "metadata": {
        "id": "Nfw1qJEjmMcV",
        "colab_type": "text"
      },
      "source": [
        "# The game, *eat cheese*"
      ]
    },
    {
      "cell_type": "markdown",
      "metadata": {
        "id": "NuLay62TmMcX",
        "colab_type": "text"
      },
      "source": [
        "A rat runs on an island and tries to eat as much as possible. The island is subdivided into $N\\times N$ cells, in which there are cheese (+0.5) and poisonous cells (-1). The rat has a visibility of 2 cells (thus it can see $5^2$ cells). The rat is given a time $T$ to accumulate as much food as possible. It can perform 4 actions: going up, down, left, right. \n",
        "\n",
        "The goal is to code an agent to solve this task that will learn by trial and error. We propose the following environment:"
      ]
    },
    {
      "cell_type": "code",
      "metadata": {
        "id": "Wj5GjmcpmMcY",
        "colab_type": "code",
        "colab": {}
      },
      "source": [
        "class Environment(object):\n",
        "    def __init__(self, grid_size=10, max_time=500, temperature=0.1):\n",
        "        grid_size = grid_size+4\n",
        "        self.grid_size = grid_size\n",
        "        self.max_time = max_time\n",
        "        self.temperature = temperature\n",
        "\n",
        "        #board on which one plays\n",
        "        self.board = np.zeros((grid_size,grid_size))\n",
        "        self.position = np.zeros((grid_size,grid_size))\n",
        "\n",
        "        # coordinate of the cat\n",
        "        self.x = 0\n",
        "        self.y = 1\n",
        "\n",
        "        # self time\n",
        "        self.t = 0\n",
        "\n",
        "        self.scale=16\n",
        "\n",
        "        self.to_draw = np.zeros((max_time+2, grid_size*self.scale, grid_size*self.scale, 3))\n",
        "\n",
        "\n",
        "    def draw(self,e):\n",
        "        skvideo.io.vwrite(str(e) + '.mp4', self.to_draw)\n",
        "\n",
        "    def get_frame(self,t):\n",
        "        b = np.zeros((self.grid_size,self.grid_size,3))+128\n",
        "        b[self.board>0,0] = 256\n",
        "        b[self.board < 0, 2] = 256\n",
        "        b[self.x,self.y,:]=256\n",
        "        b[-2:,:,:]=0\n",
        "        b[:,-2:,:]=0\n",
        "        b[:2,:,:]=0\n",
        "        b[:,:2,:]=0\n",
        "        \n",
        "        b =  cv2.resize(b, None, fx=self.scale, fy=self.scale, interpolation=cv2.INTER_NEAREST)\n",
        "\n",
        "        self.to_draw[t,:,:,:]=b\n",
        "\n",
        "\n",
        "    def act(self, action):\n",
        "        \"\"\"This function returns the new state, reward and decides if the\n",
        "        game ends.\"\"\"\n",
        "\n",
        "        self.get_frame(int(self.t))\n",
        "\n",
        "        self.position = np.zeros((self.grid_size, self.grid_size))\n",
        "\n",
        "        self.position[0:2,:]= -1\n",
        "        self.position[:,0:2] = -1\n",
        "        self.position[-2:, :] = -1\n",
        "        self.position[-2:, :] = -1\n",
        "\n",
        "        self.position[self.x, self.y] = 1\n",
        "        if action == 0:\n",
        "            if self.x == self.grid_size-3:\n",
        "                self.x = self.x-1\n",
        "            else:\n",
        "                self.x = self.x + 1\n",
        "        elif action == 1:\n",
        "            if self.x == 2:\n",
        "                self.x = self.x+1\n",
        "            else:\n",
        "                self.x = self.x-1\n",
        "        elif action == 2:\n",
        "            if self.y == self.grid_size - 3:\n",
        "                self.y = self.y - 1\n",
        "            else:\n",
        "                self.y = self.y + 1\n",
        "        elif action == 3:\n",
        "            if self.y == 2:\n",
        "                self.y = self.y + 1\n",
        "            else:\n",
        "                self.y = self.y - 1\n",
        "        else:\n",
        "            RuntimeError('Error: action not recognized')\n",
        "\n",
        "        self.t = self.t + 1\n",
        "        reward = self.board[self.x, self.y]\n",
        "        self.board[self.x, self.y] = 0\n",
        "        game_over = self.t > self.max_time\n",
        "        state = np.concatenate((self.board.reshape(self.grid_size, self.grid_size,1),\n",
        "                        self.position.reshape(self.grid_size, self.grid_size,1)),axis=2)\n",
        "        state = state[self.x-2:self.x+3,self.y-2:self.y+3,:]\n",
        "\n",
        "        return state, reward, game_over\n",
        "\n",
        "    def reset(self):\n",
        "        \"\"\"This function resets the game and returns the initial state\"\"\"\n",
        "\n",
        "        self.x = np.random.randint(3, self.grid_size-3, size=1)[0]\n",
        "        self.y = np.random.randint(3, self.grid_size-3, size=1)[0]\n",
        "\n",
        "\n",
        "        bonus = 0.5*np.random.binomial(1,self.temperature,size=self.grid_size**2)\n",
        "        bonus = bonus.reshape(self.grid_size,self.grid_size)\n",
        "\n",
        "        malus = -1.0*np.random.binomial(1,self.temperature,size=self.grid_size**2)\n",
        "        malus = malus.reshape(self.grid_size, self.grid_size)\n",
        "\n",
        "        self.to_draw = np.zeros((self.max_time+2, self.grid_size*self.scale, self.grid_size*self.scale, 3))\n",
        "\n",
        "\n",
        "        malus[bonus>0]=0\n",
        "\n",
        "        self.board = bonus + malus\n",
        "\n",
        "        self.position = np.zeros((self.grid_size, self.grid_size))\n",
        "        self.position[0:2,:]= -1\n",
        "        self.position[:,0:2] = -1\n",
        "        self.position[-2:, :] = -1\n",
        "        self.position[-2:, :] = -1\n",
        "        self.board[self.x,self.y] = 0\n",
        "        self.t = 0\n",
        "\n",
        "        state = np.concatenate((\n",
        "                               self.board.reshape(self.grid_size, self.grid_size,1),\n",
        "                        self.position.reshape(self.grid_size, self.grid_size,1)),axis=2)\n",
        "\n",
        "        state = state[self.x - 2:self.x + 3, self.y - 2:self.y + 3, :]\n",
        "        return state"
      ],
      "execution_count": 0,
      "outputs": []
    },
    {
      "cell_type": "markdown",
      "metadata": {
        "id": "Kffo2IRnmMcd",
        "colab_type": "text"
      },
      "source": [
        "The following elements are important because they correspond to the hyper parameters for this project:"
      ]
    },
    {
      "cell_type": "code",
      "metadata": {
        "id": "qG1Q_VHLmMcf",
        "colab_type": "code",
        "colab": {}
      },
      "source": [
        "# parameters\n",
        "size = 13\n",
        "T=200\n",
        "temperature=0.3\n",
        "epochs_train=40 # set small when debugging\n",
        "epochs_test=40 # set small when debugging\n",
        "\n",
        "# display videos\n",
        "def display_videos(name):\n",
        "    video = io.open(name, 'r+b').read()\n",
        "    encoded = base64.b64encode(video)\n",
        "    return '''<video alt=\"test\" controls>\n",
        "                <source src=\"data:video/mp4;base64,{0}\" type=\"video/mp4\" />\n",
        "             </video>'''.format(encoded.decode('ascii'))"
      ],
      "execution_count": 0,
      "outputs": []
    },
    {
      "cell_type": "markdown",
      "metadata": {
        "id": "Mbtz2HcPmMcl",
        "colab_type": "text"
      },
      "source": [
        "__Question 2__ Explain the use of the arrays ```position``` and ```board```."
      ]
    },
    {
      "cell_type": "markdown",
      "metadata": {
        "id": "HL7VDTG2mMcm",
        "colab_type": "text"
      },
      "source": [
        "The `position` array is used to store the position of the 'rat' on the island, it represents the island as an array of `0` with a `1` in the location of the rat, moreover, this array is padded with two lines of -1 on every direction to take into account the fact that the rat can see at a distance of 2 cells without problems.\n",
        "The `board` array is used to store the content of every cell on the island (in the form of the total reward awarded by eating all the food on each cell, which can be either -1, -0.5, 0 or 0.5)."
      ]
    },
    {
      "cell_type": "markdown",
      "metadata": {
        "id": "dZ5A0kf7mMcn",
        "colab_type": "text"
      },
      "source": [
        ""
      ]
    },
    {
      "cell_type": "markdown",
      "metadata": {
        "id": "qFOTD55ymMcp",
        "colab_type": "text"
      },
      "source": [
        "## Random Agent"
      ]
    },
    {
      "cell_type": "markdown",
      "metadata": {
        "id": "yMt2tAQZmMcq",
        "colab_type": "text"
      },
      "source": [
        "***\n",
        "__Question 3__ Implement a random Agent (only ```learned_act``` needs to be implemented):"
      ]
    },
    {
      "cell_type": "code",
      "metadata": {
        "id": "mSTsFXdBmMcr",
        "colab_type": "code",
        "colab": {}
      },
      "source": [
        "class RandomAgent(Agent):\n",
        "    def __init__(self):\n",
        "        super(RandomAgent, self).__init__()\n",
        "        pass\n",
        "\n",
        "    def learned_act(self, s):\n",
        "        return np.random.randint(0, 4)"
      ],
      "execution_count": 0,
      "outputs": []
    },
    {
      "cell_type": "markdown",
      "metadata": {
        "id": "yOPBIRY8mMcu",
        "colab_type": "text"
      },
      "source": [
        "***\n",
        "***\n",
        "__Question 4__ Visualize the game moves. You need to fill in the following function for the evaluation:"
      ]
    },
    {
      "cell_type": "code",
      "metadata": {
        "id": "M8ZrpctfmMcw",
        "colab_type": "code",
        "colab": {}
      },
      "source": [
        "def test(agent,env,epochs,prefix=''):\n",
        "  # Number of won games\n",
        "  score = 0\n",
        "      \n",
        "  for e in range(epochs):\n",
        "    \n",
        "    # At each epoch, we restart to a fresh game and get the initial state\n",
        "    state = env.reset()\n",
        "    # This assumes that the games will end\n",
        "    game_over = False\n",
        "\n",
        "    win = 0\n",
        "    lose = 0\n",
        "\n",
        "    while not game_over:\n",
        "      # The agent performs an action\n",
        "      action = agent.act(state)\n",
        "\n",
        "      # Apply an action to the environment, get the next state, the reward\n",
        "      # and if the games end\n",
        "      prev_state = state\n",
        "      state, reward, game_over = env.act(action)\n",
        "    \n",
        "      # Update the counters\n",
        "      if reward > 0:\n",
        "        win = win + reward\n",
        "      if reward < 0:\n",
        "        lose = lose -reward\n",
        "\n",
        "    # Save as a mp4\n",
        "    env.draw(prefix+str(e))\n",
        "\n",
        "    # Update stats\n",
        "    score = score + win-lose\n",
        "\n",
        "    print(\"Win/lose count {}/{}. Average score ({})\"\n",
        "          .format(win, lose, score/(1+e)))\n",
        "  print('Final score: '+str(score/epochs))"
      ],
      "execution_count": 0,
      "outputs": []
    },
    {
      "cell_type": "code",
      "metadata": {
        "id": "AvcCVAsPmMc1",
        "colab_type": "code",
        "outputId": "28b2ed48-1707-4c37-82e5-c6f483a34f69",
        "colab": {
          "base_uri": "https://localhost:8080/",
          "height": 982
        }
      },
      "source": [
        "# Initialize the game\n",
        "env = Environment(grid_size=size, max_time=T,temperature=temperature)\n",
        "\n",
        "# Initialize the agent!\n",
        "agent = RandomAgent()\n",
        "\n",
        "test(agent,env,epochs_test,prefix='random')\n",
        "HTML(display_videos('random0.mp4'))"
      ],
      "execution_count": 8,
      "outputs": [
        {
          "output_type": "stream",
          "text": [
            "Win/lose count 16.5/15.0. Average score (1.5)\n",
            "Win/lose count 7.5/13.0. Average score (-2.0)\n",
            "Win/lose count 11.0/18.0. Average score (-3.6666666666666665)\n",
            "Win/lose count 9.5/17.0. Average score (-4.625)\n",
            "Win/lose count 11.5/11.0. Average score (-3.6)\n",
            "Win/lose count 8.5/13.0. Average score (-3.75)\n",
            "Win/lose count 9.5/13.0. Average score (-3.7142857142857144)\n",
            "Win/lose count 9.0/18.0. Average score (-4.375)\n",
            "Win/lose count 5.0/7.0. Average score (-4.111111111111111)\n",
            "Win/lose count 7.5/12.0. Average score (-4.15)\n",
            "Win/lose count 12.5/15.0. Average score (-4.0)\n",
            "Win/lose count 12.0/15.0. Average score (-3.9166666666666665)\n",
            "Win/lose count 10.5/13.0. Average score (-3.8076923076923075)\n",
            "Win/lose count 6.5/11.0. Average score (-3.857142857142857)\n",
            "Win/lose count 11.0/9.0. Average score (-3.466666666666667)\n",
            "Win/lose count 17.5/9.0. Average score (-2.71875)\n",
            "Win/lose count 7.5/11.0. Average score (-2.764705882352941)\n",
            "Win/lose count 8.5/17.0. Average score (-3.0833333333333335)\n",
            "Win/lose count 12.0/21.0. Average score (-3.3947368421052633)\n",
            "Win/lose count 13.0/17.0. Average score (-3.425)\n",
            "Win/lose count 9.5/10.0. Average score (-3.2857142857142856)\n",
            "Win/lose count 10.0/14.0. Average score (-3.3181818181818183)\n",
            "Win/lose count 9.0/19.0. Average score (-3.608695652173913)\n",
            "Win/lose count 8.0/19.0. Average score (-3.9166666666666665)\n",
            "Win/lose count 5.5/8.0. Average score (-3.86)\n",
            "Win/lose count 9.5/14.0. Average score (-3.8846153846153846)\n",
            "Win/lose count 14.0/19.0. Average score (-3.925925925925926)\n",
            "Win/lose count 7.0/17.0. Average score (-4.142857142857143)\n",
            "Win/lose count 9.0/11.0. Average score (-4.068965517241379)\n",
            "Win/lose count 11.0/16.0. Average score (-4.1)\n",
            "Win/lose count 8.0/15.0. Average score (-4.193548387096774)\n",
            "Win/lose count 11.0/16.0. Average score (-4.21875)\n",
            "Win/lose count 9.0/14.0. Average score (-4.242424242424242)\n",
            "Win/lose count 8.0/12.0. Average score (-4.235294117647059)\n",
            "Win/lose count 12.0/15.0. Average score (-4.2)\n",
            "Win/lose count 12.5/17.0. Average score (-4.208333333333333)\n",
            "Win/lose count 13.0/10.0. Average score (-4.013513513513513)\n",
            "Win/lose count 13.0/13.0. Average score (-3.9078947368421053)\n",
            "Win/lose count 8.5/10.0. Average score (-3.8461538461538463)\n",
            "Win/lose count 9.0/14.0. Average score (-3.875)\n",
            "Final score: -3.875\n"
          ],
          "name": "stdout"
        },
        {
          "output_type": "execute_result",
          "data": {
            "text/html": [
              "<video alt=\"test\" controls>\n",
              "                <source src=\"data:video/mp4;base64,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\" type=\"video/mp4\" />\n",
              "             </video>"
            ],
            "text/plain": [
              "<IPython.core.display.HTML object>"
            ]
          },
          "metadata": {
            "tags": []
          },
          "execution_count": 8
        }
      ]
    },
    {
      "cell_type": "markdown",
      "metadata": {
        "id": "ou_wiGKAmMc8",
        "colab_type": "text"
      },
      "source": [
        "***\n",
        "## DQN"
      ]
    },
    {
      "cell_type": "markdown",
      "metadata": {
        "id": "QdSCO4SVmMc9",
        "colab_type": "text"
      },
      "source": [
        "Let us assume here that $T=\\infty$.\n",
        "\n",
        "***\n",
        "__Question 5__ Let $\\pi$ be a policy, show that:\n",
        "\n",
        "\\begin{equation*}\n",
        "Q^{\\pi}(s,a)=E_{(s',a')\\sim p(.|s,a)}[r(s,a)+\\gamma Q^{\\pi}(s',a')]\n",
        "\\end{equation*}\n",
        "\n",
        "Then, show that for the optimal policy $\\pi^*$ (we assume its existence), the following holds: \n",
        "\n",
        "\\begin{equation*}\n",
        "Q^{*}(s,a)=E_{s'\\sim \\pi^*(.|s,a)}[r(s,a)+\\gamma\\max_{a'}Q^{*}(s',a')].\n",
        "\\end{equation*}\n",
        "Finally, deduce that a plausible objective is:\n",
        "\n",
        "\\begin{equation*}\n",
        "\\mathcal{L}(\\theta)=E_{s' \\sim \\pi^*(.|s,a)}\\Vert r+\\gamma\\max\\max_{a'}Q(s',a',\\theta)-Q(s,a,\\theta)\\Vert^{2}.\n",
        "\\end{equation*}\n",
        "\n",
        "\n"
      ]
    },
    {
      "cell_type": "markdown",
      "metadata": {
        "id": "TRTcTH8fmMc-",
        "colab_type": "text"
      },
      "source": [
        "We have:\n",
        "\n",
        "\\begin{equation*}Q^\\pi(s,a)=E_{p^{\\pi}}[\\sum_{t\\leq T}\\gamma^{t}r(s_{t},a_{t})|s_{0}=s,a_{0}=a] \\> .\n",
        "\\end{equation*}"
      ]
    },
    {
      "cell_type": "markdown",
      "metadata": {
        "id": "S23yW9MBmMc_",
        "colab_type": "text"
      },
      "source": [
        "***\n",
        "The DQN-learning algorithm relies on these derivations to train the parameters $\\theta$ of a Deep Neural Network:\n",
        "\n",
        "1. At the state $s_t$, select the action $a_t$ with best reward using $Q_t$ and store the results;\n",
        "\n",
        "2. Obtain the new state $s_{t+1}$ from the environment $p$;\n",
        "\n",
        "3. Store $(s_t,a_t,s_{t+1})$;\n",
        "\n",
        "4. Obtain $Q_{t+1}$ by minimizing  $\\mathcal{L}$ from a recovered batch from the previously stored results.\n",
        "\n",
        "***\n",
        "__Question 6__ Implement the class ```Memory``` that stores moves (in a replay buffer) via ```remember``` and provides a ```random_access``` to these. Specify a maximum memory size to avoid side effects. You can for example use a ```list()``` and set by default ```max_memory=100```."
      ]
    },
    {
      "cell_type": "code",
      "metadata": {
        "id": "crjWdF2tmMdA",
        "colab_type": "code",
        "colab": {}
      },
      "source": [
        "class Memory(object):\n",
        "    def __init__(self, max_memory=100):\n",
        "        self.max_memory = max_memory\n",
        "        self.memory = []\n",
        "\n",
        "    def remember(self, m):\n",
        "      if len(self.memory) < self.max_memory:\n",
        "        self.memory.append(m)\n",
        "      else:\n",
        "        self.memory = self.memory[1:]\n",
        "        self.memory.append(m)\n",
        "\n",
        "    def random_access(self):\n",
        "        n = np.random.randint(0, len(self.memory))\n",
        "        return self.memory[n]"
      ],
      "execution_count": 0,
      "outputs": []
    },
    {
      "cell_type": "markdown",
      "metadata": {
        "id": "pCcv4KhZmMdE",
        "colab_type": "text"
      },
      "source": [
        "***\n",
        "The pipeline we will use for training is given below:"
      ]
    },
    {
      "cell_type": "code",
      "metadata": {
        "id": "ef8EUyRAmMdF",
        "colab_type": "code",
        "colab": {}
      },
      "source": [
        "def train(agent,env,epoch,prefix=''):\n",
        "    # Number of won games\n",
        "    score = 0\n",
        "    loss = 0\n",
        "\n",
        "    for e in range(epoch):\n",
        "        # At each epoch, we restart to a fresh game and get the initial state\n",
        "        state = env.reset()\n",
        "        # This assumes that the games will terminate\n",
        "        game_over = False\n",
        "\n",
        "        win = 0\n",
        "        lose = 0\n",
        "\n",
        "        while not game_over:\n",
        "            # The agent performs an action\n",
        "            action = agent.act(state)\n",
        "\n",
        "            # Apply an action to the environment, get the next state, the reward\n",
        "            # and if the games end\n",
        "            prev_state = state\n",
        "            state, reward, game_over = env.act(action)\n",
        "\n",
        "            # Update the counters\n",
        "            if reward > 0:\n",
        "                win = win + reward\n",
        "            if reward < 0:\n",
        "                lose = lose -reward\n",
        "\n",
        "            # Apply the reinforcement strategy\n",
        "            loss = agent.reinforce(prev_state, state,  action, reward, game_over)\n",
        "\n",
        "        # Save as a mp4\n",
        "        if e % 10 == 0:\n",
        "            env.draw(prefix+str(e))\n",
        "\n",
        "        # Update stats\n",
        "        score += win-lose\n",
        "\n",
        "        print(\"Epoch {:03d}/{:03d} | Loss {:.4f} | Win/lose count {}/{} ({})\"\n",
        "              .format(e, epoch, loss, win, lose, win-lose))\n",
        "        agent.save(name_weights=prefix+'model.h5',name_model=prefix+'model.json')"
      ],
      "execution_count": 0,
      "outputs": []
    },
    {
      "cell_type": "markdown",
      "metadata": {
        "id": "ZGmZTzwQmMdI",
        "colab_type": "text"
      },
      "source": [
        "***\n",
        "__Question 7__ Implement the DQN training algorithm using a cascade of fully connected layers. You can use different learning rate, batch size or memory size parameters. In particular, the loss might oscillate while the player will start to win the games. You have to find a good criterium."
      ]
    },
    {
      "cell_type": "code",
      "metadata": {
        "id": "FyNxNafOmMdJ",
        "colab_type": "code",
        "colab": {}
      },
      "source": [
        "class DQN(Agent):\n",
        "    def __init__(self, grid_size,  epsilon = 0.1, memory_size=100, batch_size = 16,n_state=2):\n",
        "        super(DQN, self).__init__(epsilon = epsilon)\n",
        "\n",
        "        # Discount for Q learning\n",
        "        self.discount = 0.99\n",
        "        \n",
        "        self.grid_size = grid_size\n",
        "        \n",
        "        # number of state\n",
        "        self.n_state = n_state\n",
        "\n",
        "        # Memory\n",
        "        self.memory = Memory(memory_size)\n",
        "        \n",
        "        # Batch size when learning\n",
        "        self.batch_size = batch_size\n",
        "\n",
        "    def learned_act(self, s):\n",
        "        return np.argmax(self.model.predict(s[None]), axis=1)\n",
        "\n",
        "    def reinforce(self, s_, n_s_, a_, r_, game_over_):\n",
        "        # Two steps: first memorize the states, second learn from the pool\n",
        "\n",
        "        self.memory.remember([s_, n_s_, a_, r_, game_over_])\n",
        "        \n",
        "        input_states = np.zeros((self.batch_size, 5,5,self.n_state))\n",
        "        target_q = np.zeros((self.batch_size, 4))\n",
        "        \n",
        "        for i in range(self.batch_size):\n",
        "            ######## FILL IN\n",
        "            s_, n_s_, a_, r_, game_over_ = self.memory.random_access()\n",
        "            input_states[i] = s_ \n",
        "            target_q[i] = self.model.predict(s_.reshape((1, 5, 5, self.n_state)))\n",
        "            if game_over_:\n",
        "                ######## FILL IN\n",
        "                target_q[i, a_] = r_\n",
        "            else:\n",
        "                ######## FILL IN\n",
        "                target_q[i, a_] = r_ + self.discount*np.max(self.model.predict(n_s_[None]), axis=1)\n",
        "        \n",
        "        ######## FILL IN\n",
        "        # HINT: Clip the target to avoid exploiding gradients.. -- clipping is a bit tighter\n",
        "        target_q = np.clip(target_q, -3, 3)\n",
        "\n",
        "        l = self.model.train_on_batch(input_states, target_q)\n",
        "\n",
        "        return l\n",
        "\n",
        "    def save(self,name_weights='model.h5',name_model='model.json'):\n",
        "        self.model.save_weights(name_weights, overwrite=True)\n",
        "        with open(name_model, \"w\") as outfile:\n",
        "            json.dump(self.model.to_json(), outfile)\n",
        "            \n",
        "    def load(self,name_weights='model.h5',name_model='model.json'):\n",
        "        with open(name_model, \"r\") as jfile:\n",
        "            model = model_from_json(json.load(jfile))\n",
        "        model.load_weights(name_weights)\n",
        "        model.compile(\"sgd\", \"mse\")\n",
        "        self.model = model\n",
        "\n",
        "            \n",
        "class DQN_FC(DQN):\n",
        "    def __init__(self, *args, lr=0.1,**kwargs):\n",
        "        super(DQN_FC, self).__init__( *args,**kwargs)\n",
        "        \n",
        "        # NN Model\n",
        "        model = Sequential()\n",
        "        model.add(Flatten(input_shape=(5,5,self.n_state)))\n",
        "        model.add(Dense(16, activation='relu'))\n",
        "        model.add(Dense(self.n_action, activation='softmax'))\n",
        "        ####### FILL IN\n",
        "        \n",
        "        model.compile(sgd(lr=lr, decay=1e-4, momentum=0.0), \"mse\")\n",
        "        self.model = model\n",
        "        "
      ],
      "execution_count": 0,
      "outputs": []
    },
    {
      "cell_type": "code",
      "metadata": {
        "id": "Xl-WsFzVmMdO",
        "colab_type": "code",
        "outputId": "73a7835b-f2ea-4e96-b75f-4b1df52607c8",
        "colab": {
          "base_uri": "https://localhost:8080/",
          "height": 1000
        }
      },
      "source": [
        "env = Environment(grid_size=size, max_time=T, temperature=0.3)\n",
        "agent = DQN_FC(size, lr=.1, epsilon = 0.1, memory_size=2000, batch_size = 32)\n",
        "train(agent, env, epochs_train, prefix='fc_train')\n",
        "HTML(display_videos('fc_train10.mp4'))"
      ],
      "execution_count": 12,
      "outputs": [
        {
          "output_type": "stream",
          "text": [
            "WARNING:tensorflow:From /usr/local/lib/python3.6/dist-packages/keras/backend/tensorflow_backend.py:66: The name tf.get_default_graph is deprecated. Please use tf.compat.v1.get_default_graph instead.\n",
            "\n",
            "WARNING:tensorflow:From /usr/local/lib/python3.6/dist-packages/keras/backend/tensorflow_backend.py:541: The name tf.placeholder is deprecated. Please use tf.compat.v1.placeholder instead.\n",
            "\n",
            "WARNING:tensorflow:From /usr/local/lib/python3.6/dist-packages/keras/backend/tensorflow_backend.py:4432: The name tf.random_uniform is deprecated. Please use tf.random.uniform instead.\n",
            "\n",
            "WARNING:tensorflow:From /usr/local/lib/python3.6/dist-packages/keras/optimizers.py:793: The name tf.train.Optimizer is deprecated. Please use tf.compat.v1.train.Optimizer instead.\n",
            "\n",
            "WARNING:tensorflow:From /usr/local/lib/python3.6/dist-packages/keras/backend/tensorflow_backend.py:3005: The name tf.Session is deprecated. Please use tf.compat.v1.Session instead.\n",
            "\n",
            "WARNING:tensorflow:From /usr/local/lib/python3.6/dist-packages/keras/backend/tensorflow_backend.py:190: The name tf.get_default_session is deprecated. Please use tf.compat.v1.get_default_session instead.\n",
            "\n",
            "WARNING:tensorflow:From /usr/local/lib/python3.6/dist-packages/keras/backend/tensorflow_backend.py:197: The name tf.ConfigProto is deprecated. Please use tf.compat.v1.ConfigProto instead.\n",
            "\n",
            "WARNING:tensorflow:From /usr/local/lib/python3.6/dist-packages/keras/backend/tensorflow_backend.py:207: The name tf.global_variables is deprecated. Please use tf.compat.v1.global_variables instead.\n",
            "\n",
            "WARNING:tensorflow:From /usr/local/lib/python3.6/dist-packages/keras/backend/tensorflow_backend.py:216: The name tf.is_variable_initialized is deprecated. Please use tf.compat.v1.is_variable_initialized instead.\n",
            "\n",
            "WARNING:tensorflow:From /usr/local/lib/python3.6/dist-packages/keras/backend/tensorflow_backend.py:223: The name tf.variables_initializer is deprecated. Please use tf.compat.v1.variables_initializer instead.\n",
            "\n",
            "WARNING:tensorflow:From /usr/local/lib/python3.6/dist-packages/keras/backend/tensorflow_backend.py:1033: The name tf.assign_add is deprecated. Please use tf.compat.v1.assign_add instead.\n",
            "\n",
            "WARNING:tensorflow:From /usr/local/lib/python3.6/dist-packages/keras/backend/tensorflow_backend.py:1020: The name tf.assign is deprecated. Please use tf.compat.v1.assign instead.\n",
            "\n",
            "Epoch 000/040 | Loss 0.0176 | Win/lose count 2.5/4.0 (-1.5)\n",
            "Epoch 001/040 | Loss 0.0010 | Win/lose count 4.0/4.0 (0.0)\n",
            "Epoch 002/040 | Loss 0.0268 | Win/lose count 5.0/4.0 (1.0)\n",
            "Epoch 003/040 | Loss 0.0157 | Win/lose count 7.5/7.0 (0.5)\n",
            "Epoch 004/040 | Loss 0.0122 | Win/lose count 0.5/3.0 (-2.5)\n",
            "Epoch 005/040 | Loss 0.0182 | Win/lose count 4.0/8.0 (-4.0)\n",
            "Epoch 006/040 | Loss 0.0070 | Win/lose count 2.5/3.0 (-0.5)\n",
            "Epoch 007/040 | Loss 0.0114 | Win/lose count 1.0/4.0 (-3.0)\n",
            "Epoch 008/040 | Loss 0.0079 | Win/lose count 2.0/5.0 (-3.0)\n",
            "Epoch 009/040 | Loss 0.0131 | Win/lose count 6.0/2.0 (4.0)\n",
            "Epoch 010/040 | Loss 0.0051 | Win/lose count 3.0/7.0 (-4.0)\n",
            "Epoch 011/040 | Loss 0.0025 | Win/lose count 2.0/1.0 (1.0)\n",
            "Epoch 012/040 | Loss 0.0061 | Win/lose count 3.5/12.0 (-8.5)\n",
            "Epoch 013/040 | Loss 0.0149 | Win/lose count 3.5/5.0 (-1.5)\n",
            "Epoch 014/040 | Loss 0.0091 | Win/lose count 3.5/4.0 (-0.5)\n",
            "Epoch 015/040 | Loss 0.0151 | Win/lose count 7.5/6.0 (1.5)\n",
            "Epoch 016/040 | Loss 0.0021 | Win/lose count 6.5/8.0 (-1.5)\n",
            "Epoch 017/040 | Loss 0.0086 | Win/lose count 1.0/3.0 (-2.0)\n",
            "Epoch 018/040 | Loss 0.0157 | Win/lose count 1.5/7.0 (-5.5)\n",
            "Epoch 019/040 | Loss 0.0186 | Win/lose count 4.0/5.0 (-1.0)\n",
            "Epoch 020/040 | Loss 0.0047 | Win/lose count 3.5/5.0 (-1.5)\n",
            "Epoch 021/040 | Loss 0.0008 | Win/lose count 2.0/3.0 (-1.0)\n",
            "Epoch 022/040 | Loss 0.0005 | Win/lose count 3.0/8.0 (-5.0)\n",
            "Epoch 023/040 | Loss 0.0089 | Win/lose count 4.5/5.0 (-0.5)\n",
            "Epoch 024/040 | Loss 0.0075 | Win/lose count 2.5/1.0 (1.5)\n",
            "Epoch 025/040 | Loss 0.0027 | Win/lose count 4.0/2.0 (2.0)\n",
            "Epoch 026/040 | Loss 0.0005 | Win/lose count 1.5/9.0 (-7.5)\n",
            "Epoch 027/040 | Loss 0.0140 | Win/lose count 4.0/6.0 (-2.0)\n",
            "Epoch 028/040 | Loss 0.0133 | Win/lose count 3.0/3.0 (0.0)\n",
            "Epoch 029/040 | Loss 0.0113 | Win/lose count 2.5/1.0 (1.5)\n",
            "Epoch 030/040 | Loss 0.0004 | Win/lose count 5.5/5.0 (0.5)\n",
            "Epoch 031/040 | Loss 0.0090 | Win/lose count 1.5/3.0 (-1.5)\n",
            "Epoch 032/040 | Loss 0.0041 | Win/lose count 2.5/4.0 (-1.5)\n",
            "Epoch 033/040 | Loss 0.0007 | Win/lose count 4.0/5.0 (-1.0)\n",
            "Epoch 034/040 | Loss 0.0051 | Win/lose count 4.5/5.0 (-0.5)\n",
            "Epoch 035/040 | Loss 0.0013 | Win/lose count 4.5/0 (4.5)\n",
            "Epoch 036/040 | Loss 0.0022 | Win/lose count 1.5/2.0 (-0.5)\n",
            "Epoch 037/040 | Loss 0.0106 | Win/lose count 4.0/4.0 (0.0)\n",
            "Epoch 038/040 | Loss 0.0079 | Win/lose count 4.5/6.0 (-1.5)\n",
            "Epoch 039/040 | Loss 0.0013 | Win/lose count 6.0/6.0 (0.0)\n"
          ],
          "name": "stdout"
        },
        {
          "output_type": "execute_result",
          "data": {
            "text/html": [
              "<video alt=\"test\" controls>\n",
              "                <source src=\"data:video/mp4;base64,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\" type=\"video/mp4\" />\n",
              "             </video>"
            ],
            "text/plain": [
              "<IPython.core.display.HTML object>"
            ]
          },
          "metadata": {
            "tags": []
          },
          "execution_count": 12
        }
      ]
    },
    {
      "cell_type": "markdown",
      "metadata": {
        "id": "35RfwIZamMdR",
        "colab_type": "text"
      },
      "source": [
        "***\n",
        "***\n",
        "__Question 8__ Implement the DQN training algorithm using a CNN (for example, 2 convolutional layers and one final fully connected layer)."
      ]
    },
    {
      "cell_type": "code",
      "metadata": {
        "id": "vYdciBn5mMdT",
        "colab_type": "code",
        "colab": {}
      },
      "source": [
        "class DQN_CNN(DQN):\n",
        "    def __init__(self, *args,lr=0.1,**kwargs):\n",
        "        super(DQN_CNN, self).__init__(*args,**kwargs)\n",
        "        \n",
        "        ###### FILL IN\n",
        "        model = Sequential()\n",
        "        model.add(Conv2D(16, kernel_size=(3, 3), input_shape=(5, 5, self.n_state), \n",
        "                         activation=\"relu\"))\n",
        "        model.add(Conv2D(16, kernel_size=(3, 3), activation=\"relu\"))\n",
        "        model.add(Flatten())\n",
        "        model.add(Dense(self.n_action))\n",
        "        model.compile(sgd(lr=lr, decay=1e-4, momentum=0.0), \"mse\")\n",
        "        self.model = model"
      ],
      "execution_count": 0,
      "outputs": []
    },
    {
      "cell_type": "code",
      "metadata": {
        "id": "UIyY0GHVmMdW",
        "colab_type": "code",
        "outputId": "d80adff5-b7b9-4752-971c-ff140abece0d",
        "colab": {
          "base_uri": "https://localhost:8080/",
          "height": 965
        }
      },
      "source": [
        "env = Environment(grid_size=size, max_time=T, temperature=0.3)\n",
        "agent = DQN_CNN(size, lr=.05, epsilon = 0.1, memory_size=2000, batch_size = 32)\n",
        "train(agent,env,epochs_train,prefix='cnn_train')\n",
        "HTML(display_videos('cnn_train10.mp4'))"
      ],
      "execution_count": 14,
      "outputs": [
        {
          "output_type": "stream",
          "text": [
            "Epoch 000/040 | Loss 0.0086 | Win/lose count 3.5/4.0 (-0.5)\n",
            "Epoch 001/040 | Loss 0.0048 | Win/lose count 4.0/5.0 (-1.0)\n",
            "Epoch 002/040 | Loss 0.0011 | Win/lose count 5.0/4.0 (1.0)\n",
            "Epoch 003/040 | Loss 0.0152 | Win/lose count 5.0/7.0 (-2.0)\n",
            "Epoch 004/040 | Loss 0.0039 | Win/lose count 5.5/4.0 (1.5)\n",
            "Epoch 005/040 | Loss 0.0025 | Win/lose count 5.5/2.0 (3.5)\n",
            "Epoch 006/040 | Loss 0.0051 | Win/lose count 1.0/3.0 (-2.0)\n",
            "Epoch 007/040 | Loss 0.0020 | Win/lose count 3.0/5.0 (-2.0)\n",
            "Epoch 008/040 | Loss 0.0030 | Win/lose count 2.5/0 (2.5)\n",
            "Epoch 009/040 | Loss 0.0008 | Win/lose count 2.5/3.0 (-0.5)\n",
            "Epoch 010/040 | Loss 0.0051 | Win/lose count 4.0/3.0 (1.0)\n",
            "Epoch 011/040 | Loss 0.0009 | Win/lose count 5.5/1.0 (4.5)\n",
            "Epoch 012/040 | Loss 0.0035 | Win/lose count 4.5/2.0 (2.5)\n",
            "Epoch 013/040 | Loss 0.0056 | Win/lose count 2.0/1.0 (1.0)\n",
            "Epoch 014/040 | Loss 0.0098 | Win/lose count 1.5/1.0 (0.5)\n",
            "Epoch 015/040 | Loss 0.0028 | Win/lose count 3.0/3.0 (0.0)\n",
            "Epoch 016/040 | Loss 0.0025 | Win/lose count 3.0/3.0 (0.0)\n",
            "Epoch 017/040 | Loss 0.0020 | Win/lose count 6.0/4.0 (2.0)\n",
            "Epoch 018/040 | Loss 0.0039 | Win/lose count 4.5/3.0 (1.5)\n",
            "Epoch 019/040 | Loss 0.0039 | Win/lose count 5.5/2.0 (3.5)\n",
            "Epoch 020/040 | Loss 0.0025 | Win/lose count 6.0/2.0 (4.0)\n",
            "Epoch 021/040 | Loss 0.0087 | Win/lose count 9.5/2.0 (7.5)\n",
            "Epoch 022/040 | Loss 0.0066 | Win/lose count 6.5/5.0 (1.5)\n",
            "Epoch 023/040 | Loss 0.0086 | Win/lose count 2.5/4.0 (-1.5)\n",
            "Epoch 024/040 | Loss 0.0028 | Win/lose count 1.5/3.0 (-1.5)\n",
            "Epoch 025/040 | Loss 0.0022 | Win/lose count 6.5/2.0 (4.5)\n",
            "Epoch 026/040 | Loss 0.0143 | Win/lose count 6.0/3.0 (3.0)\n",
            "Epoch 027/040 | Loss 0.0191 | Win/lose count 2.5/4.0 (-1.5)\n",
            "Epoch 028/040 | Loss 0.0018 | Win/lose count 7.0/1.0 (6.0)\n",
            "Epoch 029/040 | Loss 0.0066 | Win/lose count 3.5/1.0 (2.5)\n",
            "Epoch 030/040 | Loss 0.0124 | Win/lose count 5.0/2.0 (3.0)\n",
            "Epoch 031/040 | Loss 0.0395 | Win/lose count 6.5/2.0 (4.5)\n",
            "Epoch 032/040 | Loss 0.0068 | Win/lose count 4.0/3.0 (1.0)\n",
            "Epoch 033/040 | Loss 0.0032 | Win/lose count 4.5/1.0 (3.5)\n",
            "Epoch 034/040 | Loss 0.0080 | Win/lose count 4.5/3.0 (1.5)\n",
            "Epoch 035/040 | Loss 0.0021 | Win/lose count 4.0/1.0 (3.0)\n",
            "Epoch 036/040 | Loss 0.0055 | Win/lose count 8.0/1.0 (7.0)\n",
            "Epoch 037/040 | Loss 0.0051 | Win/lose count 3.0/2.0 (1.0)\n",
            "Epoch 038/040 | Loss 0.0033 | Win/lose count 12.5/6.0 (6.5)\n",
            "Epoch 039/040 | Loss 0.0046 | Win/lose count 7.0/0 (7.0)\n"
          ],
          "name": "stdout"
        },
        {
          "output_type": "execute_result",
          "data": {
            "text/html": [
              "<video alt=\"test\" controls>\n",
              "                <source src=\"data:video/mp4;base64,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\" type=\"video/mp4\" />\n",
              "             </video>"
            ],
            "text/plain": [
              "<IPython.core.display.HTML object>"
            ]
          },
          "metadata": {
            "tags": []
          },
          "execution_count": 14
        }
      ]
    },
    {
      "cell_type": "markdown",
      "metadata": {
        "id": "C_go8bWqmMda",
        "colab_type": "text"
      },
      "source": [
        "***\n",
        "***\n",
        "__Question 9__ Test both algorithms and compare their performances. Which issue(s) do you observe? Observe also different behaviors by changing the temperature."
      ]
    },
    {
      "cell_type": "code",
      "metadata": {
        "id": "NSHpWQ55mMdb",
        "colab_type": "code",
        "outputId": "ed3888a5-ed9c-4080-94ac-a6b2739afec4",
        "colab": {
          "base_uri": "https://localhost:8080/",
          "height": 1000
        }
      },
      "source": [
        "env = Environment(grid_size=size, max_time=T,temperature=0.3)\n",
        "agent_cnn = DQN_CNN(size, lr=.1, epsilon = 0.1, memory_size=2000, batch_size = 32)\n",
        "agent_cnn.load(name_weights='cnn_trainmodel.h5',name_model='cnn_trainmodel.json')\n",
        "\n",
        "agent_fc = DQN_FC(size, lr=.1, epsilon = 0.1, memory_size=2000, batch_size = 32)\n",
        "agent_cnn.load(name_weights='fc_trainmodel.h5',name_model='fc_trainmodel.json')\n",
        "print('Test of the CNN')\n",
        "test(agent_cnn,env,epochs_test,prefix='cnn_test')\n",
        "print('Test of the FC')\n",
        "test(agent_fc,env,epochs_test,prefix='fc_test')"
      ],
      "execution_count": 15,
      "outputs": [
        {
          "output_type": "stream",
          "text": [
            "Test of the CNN\n",
            "Win/lose count 2.5/2.0. Average score (0.5)\n",
            "Win/lose count 2.0/2.0. Average score (0.25)\n",
            "Win/lose count 7.5/10.0. Average score (-0.6666666666666666)\n",
            "Win/lose count 4.5/1.0. Average score (0.375)\n",
            "Win/lose count 7.5/6.0. Average score (0.6)\n",
            "Win/lose count 7.0/2.0. Average score (1.3333333333333333)\n",
            "Win/lose count 4.0/4.0. Average score (1.1428571428571428)\n",
            "Win/lose count 2.0/1.0. Average score (1.125)\n",
            "Win/lose count 4.0/2.0. Average score (1.2222222222222223)\n",
            "Win/lose count 3.0/6.0. Average score (0.8)\n",
            "Win/lose count 2.5/3.0. Average score (0.6818181818181818)\n",
            "Win/lose count 2.5/5.0. Average score (0.4166666666666667)\n",
            "Win/lose count 3.5/7.0. Average score (0.11538461538461539)\n",
            "Win/lose count 4.0/7.0. Average score (-0.10714285714285714)\n",
            "Win/lose count 4.0/2.0. Average score (0.03333333333333333)\n",
            "Win/lose count 2.0/3.0. Average score (-0.03125)\n",
            "Win/lose count 6.0/3.0. Average score (0.14705882352941177)\n",
            "Win/lose count 5.0/1.0. Average score (0.3611111111111111)\n",
            "Win/lose count 6.0/2.0. Average score (0.5526315789473685)\n",
            "Win/lose count 3.0/2.0. Average score (0.575)\n",
            "Win/lose count 3.5/2.0. Average score (0.6190476190476191)\n",
            "Win/lose count 1.0/1.0. Average score (0.5909090909090909)\n",
            "Win/lose count 4.0/3.0. Average score (0.6086956521739131)\n",
            "Win/lose count 2.0/5.0. Average score (0.4583333333333333)\n",
            "Win/lose count 4.0/6.0. Average score (0.36)\n",
            "Win/lose count 8.0/4.0. Average score (0.5)\n",
            "Win/lose count 5.5/5.0. Average score (0.5)\n",
            "Win/lose count 6.0/4.0. Average score (0.5535714285714286)\n",
            "Win/lose count 3.0/6.0. Average score (0.43103448275862066)\n",
            "Win/lose count 2.5/1.0. Average score (0.4666666666666667)\n",
            "Win/lose count 6.0/2.0. Average score (0.5806451612903226)\n",
            "Win/lose count 3.5/5.0. Average score (0.515625)\n",
            "Win/lose count 2.0/1.0. Average score (0.5303030303030303)\n",
            "Win/lose count 7.5/7.0. Average score (0.5294117647058824)\n",
            "Win/lose count 4.0/0. Average score (0.6285714285714286)\n",
            "Win/lose count 3.0/2.0. Average score (0.6388888888888888)\n",
            "Win/lose count 3.5/0. Average score (0.7162162162162162)\n",
            "Win/lose count 6.0/1.0. Average score (0.8289473684210527)\n",
            "Win/lose count 5.0/3.0. Average score (0.8589743589743589)\n",
            "Win/lose count 4.0/2.0. Average score (0.8875)\n",
            "Final score: 0.8875\n",
            "Test of the FC\n",
            "Win/lose count 2.5/1.0. Average score (1.5)\n",
            "Win/lose count 5.5/4.0. Average score (1.5)\n",
            "Win/lose count 4.0/3.0. Average score (1.3333333333333333)\n",
            "Win/lose count 2.5/4.0. Average score (0.625)\n",
            "Win/lose count 6.5/3.0. Average score (1.2)\n",
            "Win/lose count 3.5/3.0. Average score (1.0833333333333333)\n",
            "Win/lose count 2.5/5.0. Average score (0.5714285714285714)\n",
            "Win/lose count 3.0/5.0. Average score (0.25)\n",
            "Win/lose count 6.0/7.0. Average score (0.1111111111111111)\n",
            "Win/lose count 2.5/6.0. Average score (-0.25)\n",
            "Win/lose count 1.0/3.0. Average score (-0.4090909090909091)\n",
            "Win/lose count 1.5/2.0. Average score (-0.4166666666666667)\n",
            "Win/lose count 4.0/8.0. Average score (-0.6923076923076923)\n",
            "Win/lose count 3.0/2.0. Average score (-0.5714285714285714)\n",
            "Win/lose count 2.5/1.0. Average score (-0.43333333333333335)\n",
            "Win/lose count 3.5/5.0. Average score (-0.5)\n",
            "Win/lose count 1.5/0. Average score (-0.38235294117647056)\n",
            "Win/lose count 4.5/5.0. Average score (-0.3888888888888889)\n",
            "Win/lose count 3.5/4.0. Average score (-0.39473684210526316)\n",
            "Win/lose count 5.0/8.0. Average score (-0.525)\n",
            "Win/lose count 1.5/7.0. Average score (-0.7619047619047619)\n",
            "Win/lose count 5.5/6.0. Average score (-0.75)\n",
            "Win/lose count 3.0/7.0. Average score (-0.8913043478260869)\n",
            "Win/lose count 1.0/3.0. Average score (-0.9375)\n",
            "Win/lose count 1.5/3.0. Average score (-0.96)\n",
            "Win/lose count 1.5/3.0. Average score (-0.9807692307692307)\n",
            "Win/lose count 3.0/7.0. Average score (-1.0925925925925926)\n",
            "Win/lose count 2.0/2.0. Average score (-1.0535714285714286)\n",
            "Win/lose count 0.5/3.0. Average score (-1.103448275862069)\n",
            "Win/lose count 5.0/7.0. Average score (-1.1333333333333333)\n",
            "Win/lose count 1.5/3.0. Average score (-1.1451612903225807)\n",
            "Win/lose count 3.0/1.0. Average score (-1.046875)\n",
            "Win/lose count 3.0/3.0. Average score (-1.0151515151515151)\n",
            "Win/lose count 3.0/4.0. Average score (-1.0147058823529411)\n",
            "Win/lose count 1.5/4.0. Average score (-1.0571428571428572)\n",
            "Win/lose count 3.5/2.0. Average score (-0.9861111111111112)\n",
            "Win/lose count 3.0/5.0. Average score (-1.0135135135135136)\n",
            "Win/lose count 3.0/6.0. Average score (-1.0657894736842106)\n",
            "Win/lose count 0/2.0. Average score (-1.0897435897435896)\n",
            "Win/lose count 2.5/5.0. Average score (-1.125)\n",
            "Final score: -1.125\n"
          ],
          "name": "stdout"
        }
      ]
    },
    {
      "cell_type": "code",
      "metadata": {
        "id": "n5ul9bQMmMdf",
        "colab_type": "code",
        "outputId": "eaaf1264-9166-4293-f44d-7b6be89038af",
        "colab": {
          "base_uri": "https://localhost:8080/",
          "height": 293
        }
      },
      "source": [
        "HTML(display_videos('cnn_test10.mp4'))"
      ],
      "execution_count": 16,
      "outputs": [
        {
          "output_type": "execute_result",
          "data": {
            "text/html": [
              "<video alt=\"test\" controls>\n",
              "                <source src=\"data:video/mp4;base64,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\" type=\"video/mp4\" />\n",
              "             </video>"
            ],
            "text/plain": [
              "<IPython.core.display.HTML object>"
            ]
          },
          "metadata": {
            "tags": []
          },
          "execution_count": 16
        }
      ]
    },
    {
      "cell_type": "code",
      "metadata": {
        "id": "VNpm394kmMdk",
        "colab_type": "code",
        "outputId": "96a57348-c4a8-41e8-d3f0-9c8337e6215a",
        "colab": {
          "base_uri": "https://localhost:8080/",
          "height": 293
        }
      },
      "source": [
        "HTML(display_videos('fc_test10.mp4'))"
      ],
      "execution_count": 17,
      "outputs": [
        {
          "output_type": "execute_result",
          "data": {
            "text/html": [
              "<video alt=\"test\" controls>\n",
              "                <source src=\"data:video/mp4;base64,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\" type=\"video/mp4\" />\n",
              "             </video>"
            ],
            "text/plain": [
              "<IPython.core.display.HTML object>"
            ]
          },
          "metadata": {
            "tags": []
          },
          "execution_count": 17
        }
      ]
    },
    {
      "cell_type": "markdown",
      "metadata": {
        "id": "KQSCDL0YmMdn",
        "colab_type": "text"
      },
      "source": [
        ""
      ]
    },
    {
      "cell_type": "markdown",
      "metadata": {
        "id": "lzpf5AskmMdo",
        "colab_type": "text"
      },
      "source": [
        "***\n",
        "\n",
        "The algorithm tends to not explore the map which can be an issue. We propose two ideas in order to encourage exploration:\n",
        "1. Incorporating a decreasing $\\epsilon$-greedy exploration. You can use the method ```set_epsilon```\n",
        "2. Append via the environment a new state that describes if a cell has been visited or not\n",
        "\n",
        "***\n",
        "__Question 10__ Design a new ```train_explore``` function and environment class ```EnvironmentExploring``` to tackle the issue of exploration.\n",
        "\n"
      ]
    },
    {
      "cell_type": "code",
      "metadata": {
        "id": "QbR3QVowmMdp",
        "colab_type": "code",
        "colab": {}
      },
      "source": [
        "def train_explore(agent,env,epoch,prefix=''):\n",
        "    score=0\n",
        "    loss=0\n",
        "    epsilon_max = agent.epsilon\n",
        "    epsilon_min = 0.1\n",
        "\n",
        "    for e in range(epoch):\n",
        "      state = env.reset()\n",
        "\n",
        "      win=0\n",
        "      lose=0\n",
        "      game_over = False\n",
        "      \n",
        "      agent.set_epsilon(e*(epsilon_max-epsilon_min)/epoch+epsilon_min)\n",
        "      \n",
        "      while not game_over:\n",
        "          # The agent performs an action\n",
        "          action = agent.act(state)\n",
        "\n",
        "          # Apply an action to the environment, get the next state, the reward\n",
        "          # and if the games end\n",
        "          prev_state = state\n",
        "          state, reward, game_over = env.act(action, train=True)\n",
        "\n",
        "          # Update the counters\n",
        "          if reward > 0:\n",
        "              win = win + reward\n",
        "          if reward < 0:\n",
        "              lose = lose -reward\n",
        "\n",
        "          # Apply the reinforcement strategy\n",
        "          loss = agent.reinforce(prev_state, state,  action, reward, game_over)\n",
        "\n",
        "      # Save as a mp4\n",
        "      if e % 10 == 0:\n",
        "          env.draw(prefix+str(e))\n",
        "\n",
        "      # Update stats\n",
        "      score += win-lose\n",
        "\n",
        "      print(\"Epoch {:03d}/{:03d} | Loss {:.4f} | Win/lose count {:.2f}/{:.2f} ({:.2f}) | Epsilon : {:.2f}\"\n",
        "              .format(e, epoch, loss, win, lose, win-lose, agent.epsilon))\n",
        "      agent.save(name_weights=prefix+'model.h5',name_model=prefix+'model.json')\n",
        "\n",
        "\n",
        "class EnvironmentExploring(object):\n",
        "    def __init__(self, grid_size=10, max_time=500, temperature=0.1):\n",
        "        grid_size = grid_size+4\n",
        "        self.grid_size = grid_size\n",
        "        self.max_time = max_time\n",
        "        self.temperature = temperature\n",
        "        \n",
        "        #board on which one plays\n",
        "        self.board = np.zeros((grid_size,grid_size))\n",
        "        self.position = np.zeros((grid_size,grid_size))\n",
        "        self.malus_position = np.zeros((grid_size,grid_size))\n",
        "        \n",
        "        # coordinate of the cat\n",
        "        self.x = 0\n",
        "        self.y = 1\n",
        "        \n",
        "        # self time\n",
        "        self.t = 0\n",
        "        \n",
        "        self.scale=16\n",
        "\n",
        "        self.to_draw = np.zeros((max_time+2, grid_size*self.scale, grid_size*self.scale, 3))\n",
        "\n",
        "\n",
        "    def draw(self,e):\n",
        "        skvideo.io.vwrite(str(e) + '.mp4', self.to_draw)\n",
        "\n",
        "    def get_frame(self,t):\n",
        "        b = np.zeros((self.grid_size,self.grid_size,3))+128\n",
        "        b[self.board>0,0] = 256\n",
        "        b[self.board < 0, 2] = 256\n",
        "        b[self.x,self.y,:]=256\n",
        "        b[-2:,:,:]=0\n",
        "        b[:,-2:,:]=0\n",
        "        b[:2,:,:]=0\n",
        "        b[:,:2,:]=0\n",
        "        \n",
        "        b =  cv2.resize(b, None, fx=self.scale, fy=self.scale, interpolation=cv2.INTER_NEAREST)\n",
        "\n",
        "        self.to_draw[t,:,:,:]=b\n",
        "\n",
        "    def act(self, action, train=False):\n",
        "      \"\"\"This function returns the new state, reward and decides if the\n",
        "      game ends.\"\"\"\n",
        "\n",
        "      self.get_frame(int(self.t))\n",
        "\n",
        "      self.position = np.zeros((self.grid_size, self.grid_size))\n",
        "\n",
        "      self.position[0:2,:]= -1\n",
        "      self.position[:,0:2] = -1\n",
        "      self.position[-2:, :] = -1\n",
        "      self.position[-2:, :] = -1\n",
        "\n",
        "      self.position[self.x, self.y] = 1\n",
        "      \n",
        "      if action == 0:\n",
        "          if self.x == self.grid_size-3:\n",
        "              self.x = self.x-1\n",
        "          else:\n",
        "              self.x = self.x + 1\n",
        "      elif action == 1:\n",
        "          if self.x == 2:\n",
        "              self.x = self.x+1\n",
        "          else:\n",
        "              self.x = self.x-1\n",
        "      elif action == 2:\n",
        "          if self.y == self.grid_size - 3:\n",
        "              self.y = self.y - 1\n",
        "          else:\n",
        "              self.y = self.y + 1\n",
        "      elif action == 3:\n",
        "          if self.y == 2:\n",
        "              self.y = self.y + 1\n",
        "          else:\n",
        "              self.y = self.y - 1\n",
        "      else:\n",
        "          RuntimeError('Error: action not recognized')\n",
        "          \n",
        "\n",
        "      self.malus_position[self.x, self.y] = 0.1 \n",
        "      self.t = self.t + 1\n",
        "      \n",
        "      reward = self.board[self.x, self.y] - int(train)*self.malus_position[self.x, self.y]\n",
        "      self.board[self.x, self.y] = 0\n",
        "\n",
        "      game_over = self.t > self.max_time\n",
        "      \n",
        "      state = np.concatenate((self.malus_position.reshape(self.grid_size, self.grid_size,1),\n",
        "                              self.board.reshape(self.grid_size, self.grid_size,1),\n",
        "                              self.position.reshape(self.grid_size, self.grid_size,1)),axis=2)  \n",
        "      \n",
        "      state = state[self.x-2:self.x+3,self.y-2:self.y+3,:]\n",
        "\n",
        "      return state, reward, game_over\n",
        "\n",
        "    def reset(self):\n",
        "        \"\"\"This function resets the game and returns the initial state\"\"\"\n",
        "\n",
        "        self.x = np.random.randint(3, self.grid_size-3, size=1)[0]\n",
        "        self.y = np.random.randint(3, self.grid_size-3, size=1)[0]\n",
        "\n",
        "        bonus = 0.5*np.random.binomial(1,self.temperature,size=self.grid_size**2)\n",
        "        bonus = bonus.reshape(self.grid_size,self.grid_size)\n",
        "\n",
        "        malus = -1.0*np.random.binomial(1,self.temperature,size=self.grid_size**2)\n",
        "        malus = malus.reshape(self.grid_size, self.grid_size)\n",
        "\n",
        "        self.to_draw = np.zeros((self.max_time+2, self.grid_size*self.scale, self.grid_size*self.scale, 3))\n",
        "\n",
        "        malus[bonus>0]=0\n",
        "\n",
        "        self.board = bonus + malus\n",
        "\n",
        "        self.position = np.zeros((self.grid_size, self.grid_size))\n",
        "        self.position[0:2,:]= -1\n",
        "        self.position[:,0:2] = -1\n",
        "        self.position[-2:, :] = -1\n",
        "        self.position[-2:, :] = -1\n",
        "        \n",
        "        self.malus_position = np.zeros((self.grid_size,self.grid_size))\n",
        "        self.malus_position[self.x, self.y] = 0.1\n",
        "        \n",
        "        self.board[self.x,self.y] = 0\n",
        "        self.t = 0\n",
        "\n",
        "        state = np.concatenate((self.malus_position.reshape(self.grid_size, self.grid_size,1),\n",
        "                                self.board.reshape(self.grid_size, self.grid_size,1),\n",
        "                                self.position.reshape(self.grid_size, self.grid_size,1)),axis=2) \n",
        "\n",
        "        state = state[self.x - 2:self.x + 3, self.y - 2:self.y + 3, :]\n",
        "        return state\n"
      ],
      "execution_count": 0,
      "outputs": []
    },
    {
      "cell_type": "code",
      "metadata": {
        "id": "yxk6wcHlmMdw",
        "colab_type": "code",
        "colab": {
          "base_uri": "https://localhost:8080/",
          "height": 843
        },
        "outputId": "5425b2a4-125d-4917-a2a3-d4b7005ed1df"
      },
      "source": [
        "# Training\n",
        "env = EnvironmentExploring(grid_size=size, max_time=T, temperature=0.3)\n",
        "agent = DQN_CNN(size, lr=.1, epsilon = 0.1, memory_size=2000, batch_size = 32,n_state=3)\n",
        "train_explore(agent, env, epochs_train, prefix='cnn_train_explore')\n",
        "HTML(display_videos('cnn_train_explore10.mp4'))"
      ],
      "execution_count": 25,
      "outputs": [
        {
          "output_type": "stream",
          "text": [
            "Epoch 000/040 | Loss 0.0099 | Win/lose count 2.40/22.50 (-20.10) | Epsilon : 0.10\n",
            "Epoch 001/040 | Loss 0.0115 | Win/lose count 4.00/19.10 (-15.10) | Epsilon : 0.10\n",
            "Epoch 002/040 | Loss 0.0025 | Win/lose count 4.80/18.90 (-14.10) | Epsilon : 0.10\n",
            "Epoch 003/040 | Loss 0.0021 | Win/lose count 6.00/27.60 (-21.60) | Epsilon : 0.10\n",
            "Epoch 004/040 | Loss 0.0061 | Win/lose count 4.00/21.10 (-17.10) | Epsilon : 0.10\n",
            "Epoch 005/040 | Loss 0.0068 | Win/lose count 4.00/25.10 (-21.10) | Epsilon : 0.10\n",
            "Epoch 006/040 | Loss 0.0055 | Win/lose count 0.40/21.00 (-20.60) | Epsilon : 0.10\n",
            "Epoch 007/040 | Loss 0.0048 | Win/lose count 4.40/21.00 (-16.60) | Epsilon : 0.10\n",
            "Epoch 008/040 | Loss 0.0035 | Win/lose count 1.20/21.80 (-20.60) | Epsilon : 0.10\n",
            "Epoch 009/040 | Loss 0.0034 | Win/lose count 5.20/22.80 (-17.60) | Epsilon : 0.10\n",
            "Epoch 010/040 | Loss 0.0058 | Win/lose count 6.40/20.50 (-14.10) | Epsilon : 0.10\n",
            "Epoch 011/040 | Loss 0.0047 | Win/lose count 6.40/22.50 (-16.10) | Epsilon : 0.10\n",
            "Epoch 012/040 | Loss 0.0455 | Win/lose count 6.00/20.60 (-14.60) | Epsilon : 0.10\n",
            "Epoch 013/040 | Loss 0.0628 | Win/lose count 2.80/25.40 (-22.60) | Epsilon : 0.10\n",
            "Epoch 014/040 | Loss 0.0065 | Win/lose count 15.20/25.30 (-10.10) | Epsilon : 0.10\n",
            "Epoch 015/040 | Loss 0.0035 | Win/lose count 2.80/26.40 (-23.60) | Epsilon : 0.10\n",
            "Epoch 016/040 | Loss 0.0985 | Win/lose count 4.40/25.00 (-20.60) | Epsilon : 0.10\n",
            "Epoch 017/040 | Loss 0.0075 | Win/lose count 5.60/22.70 (-17.10) | Epsilon : 0.10\n",
            "Epoch 018/040 | Loss 0.0032 | Win/lose count 7.60/21.20 (-13.60) | Epsilon : 0.10\n",
            "Epoch 019/040 | Loss 0.0092 | Win/lose count 13.60/21.70 (-8.10) | Epsilon : 0.10\n",
            "Epoch 020/040 | Loss 0.0061 | Win/lose count 11.20/21.30 (-10.10) | Epsilon : 0.10\n",
            "Epoch 021/040 | Loss 0.0057 | Win/lose count 11.20/20.30 (-9.10) | Epsilon : 0.10\n",
            "Epoch 022/040 | Loss 0.0050 | Win/lose count 10.40/23.50 (-13.10) | Epsilon : 0.10\n",
            "Epoch 023/040 | Loss 0.0136 | Win/lose count 10.00/19.60 (-9.60) | Epsilon : 0.10\n",
            "Epoch 024/040 | Loss 0.0118 | Win/lose count 6.00/20.60 (-14.60) | Epsilon : 0.10\n",
            "Epoch 025/040 | Loss 0.0079 | Win/lose count 11.20/17.30 (-6.10) | Epsilon : 0.10\n",
            "Epoch 026/040 | Loss 0.0115 | Win/lose count 8.40/21.00 (-12.60) | Epsilon : 0.10\n",
            "Epoch 027/040 | Loss 0.0113 | Win/lose count 14.00/20.60 (-6.60) | Epsilon : 0.10\n",
            "Epoch 028/040 | Loss 0.0061 | Win/lose count 11.60/20.20 (-8.60) | Epsilon : 0.10\n",
            "Epoch 029/040 | Loss 0.0045 | Win/lose count 7.60/20.20 (-12.60) | Epsilon : 0.10\n",
            "Epoch 030/040 | Loss 0.0072 | Win/lose count 13.20/18.80 (-5.60) | Epsilon : 0.10\n",
            "Epoch 031/040 | Loss 0.0093 | Win/lose count 12.40/19.00 (-6.60) | Epsilon : 0.10\n",
            "Epoch 032/040 | Loss 0.0058 | Win/lose count 11.60/18.20 (-6.60) | Epsilon : 0.10\n",
            "Epoch 033/040 | Loss 0.0100 | Win/lose count 2.40/19.50 (-17.10) | Epsilon : 0.10\n",
            "Epoch 034/040 | Loss 0.0061 | Win/lose count 15.20/18.30 (-3.10) | Epsilon : 0.10\n",
            "Epoch 035/040 | Loss 0.0091 | Win/lose count 3.20/21.30 (-18.10) | Epsilon : 0.10\n",
            "Epoch 036/040 | Loss 0.0086 | Win/lose count 10.40/20.50 (-10.10) | Epsilon : 0.10\n",
            "Epoch 037/040 | Loss 0.0029 | Win/lose count 7.20/18.30 (-11.10) | Epsilon : 0.10\n",
            "Epoch 038/040 | Loss 0.0051 | Win/lose count 16.40/19.00 (-2.60) | Epsilon : 0.10\n",
            "Epoch 039/040 | Loss 0.0056 | Win/lose count 15.20/22.30 (-7.10) | Epsilon : 0.10\n"
          ],
          "name": "stdout"
        },
        {
          "output_type": "execute_result",
          "data": {
            "text/html": [
              "<video alt=\"test\" controls>\n",
              "                <source src=\"data:video/mp4;base64,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\" type=\"video/mp4\" />\n",
              "             </video>"
            ],
            "text/plain": [
              "<IPython.core.display.HTML object>"
            ]
          },
          "metadata": {
            "tags": []
          },
          "execution_count": 25
        }
      ]
    },
    {
      "cell_type": "code",
      "metadata": {
        "id": "qO7Sh67MmMd0",
        "colab_type": "code",
        "colab": {}
      },
      "source": [
        "# Evaluation\n",
        "test(agent,env,epochs_test,prefix='cnn_test_explore')\n",
        "HTML(display_videos('cnn_test_explore10.mp4'))"
      ],
      "execution_count": 0,
      "outputs": []
    },
    {
      "cell_type": "markdown",
      "metadata": {
        "id": "thEzSnI7mMd4",
        "colab_type": "text"
      },
      "source": [
        "***\n",
        "***\n",
        "__BONUS question__ Use the expert DQN from the previous question to generate some winning games. Train a model that mimicks its behavior. Compare the performances."
      ]
    },
    {
      "cell_type": "markdown",
      "metadata": {
        "id": "6lW2INFgmMd6",
        "colab_type": "text"
      },
      "source": [
        ""
      ]
    },
    {
      "cell_type": "markdown",
      "metadata": {
        "id": "Dt8nGm5PmMd7",
        "colab_type": "text"
      },
      "source": [
        "***"
      ]
    }
  ]
}